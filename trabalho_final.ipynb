{
 "cells": [
  {
   "cell_type": "markdown",
   "id": "05c5a579",
   "metadata": {},
   "source": [
    "## Trabalho Final de Disciplica - Introdução a Processamento de Dados\n",
    "\n",
    "#### Turma: Engenharia de Dados - Turma 02\n",
    "#### Nome Completo: Evellen Thais Gomes Silva\n",
    "#### Matrícula: 2518889\n",
    "\n"
   ]
  },
  {
   "cell_type": "markdown",
   "id": "d720687d",
   "metadata": {},
   "source": [
    "#### ---------------------------------------------------------------------------------------------------------------------------------------------"
   ]
  },
  {
   "cell_type": "markdown",
   "id": "dd6b0f2e",
   "metadata": {},
   "source": [
    "### Instruções:\n",
    "##### O objetivo deste trabalho é processar os dados do Enem 2023, salvar os resultados em um banco de dados PostgreSQL, consultar esses dados utilizando Pandas (Python) e responder a um conjunto de perguntas analíticas.\n",
    "#### Passos para Execução\n",
    "\n",
    "1. Download dos Dados\n",
    "Baixe o arquivo de microdados do Enem 2023 no link abaixo:\n",
    "\n",
    "[Microdados Enem 2023 - INEP](https://www.gov.br/inep/pt-br/acesso-a-informacao/dados-abertos/microdados/enem)\n",
    "\n",
    "Utilize o dicionário de dados disponível no site para entender o significado de cada coluna.\n",
    "\n",
    "2. Processamento dos Dados\n",
    "Realize o tratamento necessário nos dados, como:\n",
    "\n",
    "Limpeza (remoção de valores ausentes ou inconsistentes)\n",
    "\n",
    "Seleção de colunas relevantes\n",
    "\n",
    "Conversão de tipos de dados, se necessário\n",
    "\n",
    "Descreva brevemente os principais tratamentos realizados.\n",
    "\n",
    "3. Armazenamento no Banco de Dados\n",
    "Salve os dados tratados em um banco de dados PostgreSQL.\n",
    "\n",
    "Documente:\n",
    "\n",
    "O nome do banco de dados e das tabelas utilizadas\n",
    "\n",
    "O método/ferramenta utilizada para realizar a carga (por exemplo: script Python, Pandas, PgAdmin, etc.)\n",
    "\n",
    "4. Consulta e Análise com Pandas\n",
    "Utilize a biblioteca Pandas (Python) para consultar os dados diretamente do banco de dados.\n",
    "\n",
    "Responda às perguntas analíticas fornecidas utilizando funções do Pandas.\n",
    "\n",
    "Apresente as respostas juntamente com o código utilizado para obtê-las.\n",
    "\n"
   ]
  },
  {
   "cell_type": "markdown",
   "id": "335bcc1c",
   "metadata": {},
   "source": [
    "## ====================================================="
   ]
  },
  {
   "cell_type": "markdown",
   "id": "37a77345",
   "metadata": {},
   "source": [
    "#### Import csv"
   ]
  },
  {
   "cell_type": "code",
   "execution_count": 1,
   "id": "a899df31",
   "metadata": {},
   "outputs": [],
   "source": [
    "# Bibliotecas\n",
    "import pandas as pd\n",
    "import numpy as np\n",
    "from sqlalchemy import create_engine\n",
    "from dotenv import load_dotenv\n",
    "import os\n",
    "import matplotlib.pyplot as plt\n"
   ]
  },
  {
   "cell_type": "code",
   "execution_count": 2,
   "id": "17234e35",
   "metadata": {},
   "outputs": [],
   "source": [
    "data_df = pd.read_csv('MICRODADOS_ENEM_2023.csv', sep=';' , encoding='latin-1')"
   ]
  },
  {
   "cell_type": "markdown",
   "id": "8dbd2b2e",
   "metadata": {},
   "source": [
    "### Tratamento dos dados"
   ]
  },
  {
   "cell_type": "code",
   "execution_count": 3,
   "id": "0b2eddde",
   "metadata": {},
   "outputs": [],
   "source": [
    "columns = [\n",
    "    'TP_PRESENCA_LC',\n",
    "    'TP_SEXO',\n",
    "    'TP_PRESENCA_MT',\n",
    "    'TP_FAIXA_ETARIA',\n",
    "    'TP_ESCOLA',\n",
    "    'Q001',\n",
    "    'Q002',\n",
    "    'Q006',\n",
    "    'NU_NOTA_REDACAO',\n",
    "    'NU_NOTA_MT'\n",
    "]\n",
    "\n",
    "filtro_data = data_df.filter(columns)\n",
    "del data_df "
   ]
  },
  {
   "cell_type": "code",
   "execution_count": 4,
   "id": "c7bc8a31",
   "metadata": {},
   "outputs": [],
   "source": [
    "filtro_data['NU_NOTA_MT'] = np.where(filtro_data['TP_PRESENCA_MT'] != 1, 0, filtro_data['NU_NOTA_MT'])\n",
    "filtro_data['NU_NOTA_REDACAO'] = np.where(filtro_data['TP_PRESENCA_LC'] != 1, 0, filtro_data['NU_NOTA_REDACAO'])"
   ]
  },
  {
   "cell_type": "code",
   "execution_count": 5,
   "id": "82c0e455",
   "metadata": {},
   "outputs": [],
   "source": [
    "qntd_estudantes = filtro_data['TP_PRESENCA_LC'].count()\n",
    "qntd_ausencia = (filtro_data['TP_PRESENCA_LC'] == 0).sum()\n",
    "taxa_ausencia_Linguagens_Codigos  = (qntd_ausencia * 100) / qntd_estudantes\n",
    "\n",
    "qntd_estudantes = filtro_data['TP_PRESENCA_MT'].count()\n",
    "qntd_ausencia = (filtro_data['TP_PRESENCA_MT'] == 0).sum()\n",
    "taxa_ausencia_Matematica = (qntd_ausencia * 100) / qntd_estudantes\n",
    "\n",
    "df_ausencias = pd.DataFrame({\n",
    "                                'taxa_ausencia_Linguagens_Codigos':[taxa_ausencia_Linguagens_Codigos],\n",
    "                                'taxa_ausencia_Matematica': [taxa_ausencia_Matematica]  \n",
    "                             })\n"
   ]
  },
  {
   "cell_type": "code",
   "execution_count": 6,
   "id": "86f95752",
   "metadata": {},
   "outputs": [],
   "source": [
    "\n",
    "nomes_faixa_etaria = {\n",
    "    1: 'Menor de 17 anos',\n",
    "    2: '17 anos',\n",
    "    3: '18 anos',\n",
    "    4: '19 anos',\n",
    "    5: '20 anos',\n",
    "    6: '21 anos',\n",
    "    7: '22 anos',\n",
    "    8: '23 anos',\n",
    "    9: '24 anos',\n",
    "    10: '25 anos',\n",
    "    11: \"Entre 26 e 30 anos\",\n",
    "    12: \"Entre 31 e 35 anos\",\n",
    "    13: \"Entre 36 e 40 anos\",\n",
    "    14: \"Entre 41 e 45 anos\",\n",
    "    15: \"Entre 46 e 50 anos\",\n",
    "    16: \"Entre 51 e 55 anos\",\n",
    "    17: \"Entre 56 e 60 anos\",\n",
    "    18: \"Entre 61 e 65 anos\",\n",
    "    19: \"Entre 66 e 70 anos\",\n",
    "    20: \"Maior de 70 anos\"\n",
    "}\n",
    "\n",
    "\n",
    "df_faixa_etaria = filtro_data.groupby(by='TP_FAIXA_ETARIA').size().reset_index(name='quantidade')\n",
    "total = df_faixa_etaria['quantidade'].sum()\n",
    "\n",
    "\n",
    "df_faixa_etaria['percentual'] = df_faixa_etaria['quantidade'].map(lambda x: ((x * 100) / total).round(2))\n",
    "\n",
    "df_faixa_etaria['faixa_etaria'] = df_faixa_etaria['TP_FAIXA_ETARIA'].map(nomes_faixa_etaria)\n",
    "\n",
    "df_faixa_etaria = df_faixa_etaria.rename(columns={'TP_FAIXA_ETARIA': 'id'})\n"
   ]
  },
  {
   "cell_type": "code",
   "execution_count": 7,
   "id": "a09d9ff4",
   "metadata": {},
   "outputs": [],
   "source": [
    "mulheres_presentes_na_prova_de_matemática = filtro_data[(filtro_data['TP_PRESENCA_MT'] == 1) & (filtro_data['TP_SEXO'] == 'F')]\n",
    "média_dos_resultados_em_matemática_melheres = round(mulheres_presentes_na_prova_de_matemática['NU_NOTA_MT'].sum() / mulheres_presentes_na_prova_de_matemática['NU_NOTA_MT'].count(), 2)\n",
    "\n",
    "homens_presentes_na_prova_de_matemática = filtro_data[(filtro_data['TP_PRESENCA_MT'] == 1) & (filtro_data['TP_SEXO'] == 'M')]\n",
    "média_dos_resultados_em_matemática_homens = round(homens_presentes_na_prova_de_matemática['NU_NOTA_MT'].sum() / homens_presentes_na_prova_de_matemática['NU_NOTA_MT'].count(), 2)\n",
    "\n",
    "\n",
    "\n",
    "homens_presentes_no_exame_liguagens = filtro_data[(filtro_data['TP_PRESENCA_LC'] == 1) & (filtro_data['TP_SEXO'] == 'M')]\n",
    "media_homens_presentes_no_exame_liguagens = round(homens_presentes_no_exame_liguagens['NU_NOTA_REDACAO'].sum() / homens_presentes_no_exame_liguagens['NU_NOTA_REDACAO'].count(), 2)\n",
    "\n",
    "mulheres_presentes_no_exame_liguagens = filtro_data[(filtro_data['TP_PRESENCA_LC'] == 1) & (filtro_data['TP_SEXO'] == 'F')]\n",
    "media_mulheres_presentes_no_exame_liguagens = round(mulheres_presentes_no_exame_liguagens['NU_NOTA_REDACAO'].sum() / mulheres_presentes_no_exame_liguagens['NU_NOTA_REDACAO'].count(), 2)\n",
    "\n",
    "df_dados_por_sexo = pd.DataFrame({\n",
    "    'média_de_resultados_em_matemática_das_mulheres': [média_dos_resultados_em_matemática_melheres],\n",
    "    'média_de_resultados_em_matemática_dos_homens': [média_dos_resultados_em_matemática_homens],\n",
    "    'média_de_resultados_em_liguagens_das_mulheres': [media_mulheres_presentes_no_exame_liguagens],\n",
    "    'média_de_resultados_em_liguagens_das_homens': [media_homens_presentes_no_exame_liguagens]\n",
    "    \n",
    "})\n"
   ]
  },
  {
   "cell_type": "code",
   "execution_count": 8,
   "id": "d3611822",
   "metadata": {},
   "outputs": [],
   "source": [
    "escolas_particulares_presentes_na_prova_de_matemática = filtro_data[(filtro_data['TP_PRESENCA_MT'] == 1) & (filtro_data['TP_ESCOLA'] == 3)]\n",
    "média_dos_resultados_em_matemática_das_escolas_particulares = round(escolas_particulares_presentes_na_prova_de_matemática['NU_NOTA_MT'].sum() / escolas_particulares_presentes_na_prova_de_matemática['NU_NOTA_MT'].count(), 2)\n",
    "\n",
    "escolas_publicas_presentes_na_prova_de_matemática = filtro_data[(filtro_data['TP_PRESENCA_MT'] == 1) & (filtro_data['TP_ESCOLA'] == 2)]\n",
    "média_dos_resultados_em_matemática_das_escolas_publicas = round(escolas_publicas_presentes_na_prova_de_matemática['NU_NOTA_MT'].sum() / escolas_publicas_presentes_na_prova_de_matemática['NU_NOTA_MT'].count(), 2)\n",
    "\n",
    "escolas_particulares_presentes_na_prova_de_linguagem = filtro_data[(filtro_data['TP_PRESENCA_LC'] == 1) & (filtro_data['TP_ESCOLA'] == 3)]\n",
    "média_dos_resultados_em_linguagem_das_escolas_particulares = round(escolas_particulares_presentes_na_prova_de_linguagem['NU_NOTA_REDACAO'].sum() / escolas_particulares_presentes_na_prova_de_linguagem['NU_NOTA_REDACAO'].count(), 2)\n",
    "\n",
    "escolas_publica_presentes_na_prova_de_linguagem = filtro_data[(filtro_data['TP_PRESENCA_LC'] == 1) & (filtro_data['TP_ESCOLA'] == 2)]\n",
    "média_dos_resultados_em_linguagem_das_escolas_publica = round(escolas_publica_presentes_na_prova_de_linguagem['NU_NOTA_REDACAO'].sum() / escolas_publica_presentes_na_prova_de_linguagem['NU_NOTA_REDACAO'].count(), 2)\n",
    "\n",
    "df_dados_por_tipo_de_escola = pd.DataFrame({\n",
    "    'média_dos_resultados_em_matemática_das_escolas_particulares': [média_dos_resultados_em_matemática_das_escolas_particulares],\n",
    "    'média_dos_resultados_em_matemática_das_escolas_publicas': [média_dos_resultados_em_matemática_das_escolas_publicas],\n",
    "    'média_dos_resultados_em_linguagem_das_escolas_particulares': [média_dos_resultados_em_linguagem_das_escolas_particulares],\n",
    "    'média_dos_resultados_em_linguagem_das_escolas_publica': [média_dos_resultados_em_linguagem_das_escolas_publica]\n",
    "})"
   ]
  },
  {
   "cell_type": "code",
   "execution_count": 9,
   "id": "51a9731c",
   "metadata": {},
   "outputs": [],
   "source": [
    "# Escolaridade do pai\n",
    "\n",
    "nomes_dicionário = {\n",
    "    'A': 'Nunca estudou',\n",
    "    'B': 'Fundamental 1',\n",
    "    'C': 'Fundamental 2',\n",
    "    'D': 'Ensino Médio Incompleto',\n",
    "    'E': 'Ensino Médio Completo',\n",
    "    'F': 'Graduação completa',\n",
    "    'G': 'Pós Graduação completa',\n",
    "    'H': 'Não informado'\n",
    "}\n",
    "\n",
    "alunos_apresentam_matemática = filtro_data[filtro_data['TP_PRESENCA_MT'] == 1]\n",
    "\n",
    "agrupados_por_educação_paterna = alunos_apresentam_matemática.groupby('Q001', as_index=False)[['NU_NOTA_MT', 'NU_NOTA_REDACAO']].mean().round(2)\n",
    "agrupados_por_educação_paterna['label'] = agrupados_por_educação_paterna['Q001'].map(nomes_dicionário)\n",
    "agrupados_por_educação_paterna = agrupados_por_educação_paterna.rename(columns={'Q001': 'id'})\n",
    "\n",
    "# Escolaridade da mãe\n",
    "\n",
    "nomes_dicionário = {\n",
    "    'A': 'Nunca estudou',\n",
    "    'B': 'Fundamental 1',\n",
    "    'C': 'Fundamental 2',\n",
    "    'D': 'Ensino Médio Incompleto',\n",
    "    'E': 'Ensino Médio Completo',\n",
    "    'F': 'Graduação completa',\n",
    "    'G': 'Pós Graduação completa',\n",
    "    'H': 'Não informado'\n",
    "}\n",
    "\n",
    "alunos_apresentam_matemática = filtro_data[filtro_data['TP_PRESENCA_MT'] == 1]\n",
    "\n",
    "agrupados_por_educação_materna = alunos_apresentam_matemática.groupby('Q002', as_index=False)[['NU_NOTA_MT', 'NU_NOTA_REDACAO']].mean().round(2)\n",
    "agrupados_por_educação_materna['label'] = agrupados_por_educação_materna['Q002'].map(nomes_dicionário)\n",
    "agrupados_por_educação_materna = agrupados_por_educação_materna.rename(columns={'Q002': 'id'})\n",
    "\n"
   ]
  },
  {
   "cell_type": "code",
   "execution_count": 10,
   "id": "354a2073",
   "metadata": {},
   "outputs": [],
   "source": [
    "# Escolaridade dos pais\n",
    "\n",
    "nomes_dicionário = {\n",
    "    \"A\": \"Nenhuma Renda\",\n",
    "    \"B\": \"Até R$ 1.320,00\",\n",
    "    \"C\": \"De R$ 1.320,01 até R$ 1.980,00\",\n",
    "    \"D\": \"De R$ 1.980,01 até R$ 2.640,00\",\n",
    "    \"E\": \"De R$ 2.640,01 até R$ 3.300,00\",\n",
    "    \"F\": \"De R$ 3.300,01 até R$ 3.960,00\",\n",
    "    \"G\": \"De R$ 3.960,01 até R$ 5.280,00\",\n",
    "    \"H\": \"De R$ 5.280,01 até R$ 6.600,00\",\n",
    "    \"I\": \"De R$ 6.600,01 até R$ 7.920,00\",\n",
    "    \"J\": \"De R$ 7.920,01 até R$ 9.240,00\",\n",
    "    \"K\": \"De R$ 9.240,01 até R$ 10.560,00\",\n",
    "    \"L\": \"De R$ 10.560,01 até R$ 11.880,00\",\n",
    "    \"M\": \"De R$ 11.880,01 até R$ 13.200,00\",\n",
    "    \"N\": \"De R$ 13.200,01 até R$ 15.840,00\",\n",
    "    \"O\": \"De R$ 15.840,01 até R$ 19.800,00\",\n",
    "    \"P\": \"De R$ 19.800,01 até R$ 26.400,00\",\n",
    "    \"Q\": \"Acima de R$ 26.400,00\"\n",
    "}\n",
    "\n",
    "alunos_apresentam_matemática = filtro_data[filtro_data['TP_PRESENCA_MT'] == 1]\n",
    "\n",
    "agrupados_por_renda = alunos_apresentam_matemática.groupby('Q006', as_index=False)[['NU_NOTA_MT', 'NU_NOTA_REDACAO']].mean().round(2)\n",
    "agrupados_por_renda['label'] = agrupados_por_renda['Q006'].map(nomes_dicionário)\n",
    "agrupados_por_renda = agrupados_por_renda.rename(columns={'Q006': 'id'})\n"
   ]
  },
  {
   "cell_type": "markdown",
   "id": "de1badba",
   "metadata": {},
   "source": [
    "### Insert no Banco de Dados"
   ]
  },
  {
   "cell_type": "code",
   "execution_count": null,
   "id": "645ff00b",
   "metadata": {},
   "outputs": [],
   "source": [
    "import os\n",
    "from sqlalchemy import create_engine\n",
    "\n",
    "\n",
    "database_name = os.getenv('DATABASE_NAME')\n",
    "database_user = os.getenv('DATABASE_USER')\n",
    "database_password = os.getenv('DATABASE_PASSWORD')\n",
    "database_port = os.getenv('DATABASE_PORT')\n",
    "database_host = os.getenv('DATABASE_HOST')\n",
    "\n",
    "engine = create_engine(f'postgresql://{database_user}:{database_password}@{database_host}:{database_port}/{database_name}')"
   ]
  },
  {
   "cell_type": "code",
   "execution_count": null,
   "id": "3de18a7c",
   "metadata": {},
   "outputs": [
    {
     "name": "stdout",
     "output_type": "stream",
     "text": [
      "✅ Conexão com o PostgreSQL estabelecida com sucesso!\n"
     ]
    }
   ],
   "source": [
    "import psycopg2\n",
    "\n",
    "DB_CONFIG = {\n",
    "    'host': 'localhost',\n",
    "    'database': 'processamentoDados',\n",
    "    'user': 'postgres',\n",
    "    'password': '1234',  \n",
    "    'port': '5432'\n",
    "}\n",
    "\n",
    "try:\n",
    "    conn = psycopg2.connect(\n",
    "        host=DB_CONFIG['host'],\n",
    "        database=DB_CONFIG['database'],\n",
    "        user=DB_CONFIG['user'],\n",
    "        password=DB_CONFIG['password'],\n",
    "        port=DB_CONFIG['port']\n",
    "    )\n",
    "    print(\"Conexão com o PostgreSQL estabelecida com sucesso!\")\n",
    "    conn.close()\n",
    "except Exception as e:\n",
    "    print(f\"Falha na conexão com o PostgreSQL: {e}\")"
   ]
  },
  {
   "cell_type": "code",
   "execution_count": null,
   "id": "8993d311",
   "metadata": {},
   "outputs": [],
   "source": [
    "# Limpa todas as tabelas primeiro\n",
    "with engine.begin() as conn:\n",
    "    conn.execute(\"TRUNCATE TABLE abstence_calculated_data\")\n",
    "    conn.execute(\"TRUNCATE TABLE age_range_calculated_data\")\n",
    "    conn.execute(\"TRUNCATE TABLE sex_calculated_data\")\n",
    "    conn.execute(\"TRUNCATE TABLE school_type_calculated_data\")\n",
    "    conn.execute(\"TRUNCATE TABLE mother_education_calculated_data\")\n",
    "    conn.execute(\"TRUNCATE TABLE father_education_calculated_data\")\n",
    "    conn.execute(\"TRUNCATE TABLE income_calculated_data\")\n",
    "\n",
    "df_ausencias.to_sql('abstence_calculated_data', engine, if_exists='append')\n",
    "df_faixa_etaria.to_sql('age_range_calculated_data', engine, if_exists='append')\n",
    "df_dados_por_sexo.to_sql('sex_calculated_data', engine, if_exists='append')\n",
    "df_dados_por_tipo_de_escola.to_sql('school_type_calculated_data', engine, if_exists='append')\n",
    "agrupados_por_educação_materna.to_sql('mother_education_calculated_data', engine, if_exists='append')\n",
    "agrupados_por_educação_paterna.to_sql('father_education_calculated_data', engine, if_exists='append')\n",
    "agrupados_por_renda.to_sql('income_calculated_data', engine, if_exists='append')\n",
    "\n",
    "engine.dispose()\n"
   ]
  },
  {
   "cell_type": "code",
   "execution_count": null,
   "id": "4251a489",
   "metadata": {},
   "outputs": [],
   "source": [
    "# Liberação de memória\n",
    "del filtro_data\n",
    "del df_ausencias\n",
    "del df_dados_por_sexo\n",
    "del agrupados_por_renda\n",
    "del df_dados_por_tipo_de_escola\n",
    "del agrupados_por_educação_materna\n",
    "del agrupados_por_educação_paterna\n",
    "del agrupados_por_renda"
   ]
  },
  {
   "cell_type": "markdown",
   "id": "a46ac55d",
   "metadata": {},
   "source": [
    "### Recuperação dos dados usando Pandas"
   ]
  },
  {
   "cell_type": "code",
   "execution_count": null,
   "id": "3dd762a8",
   "metadata": {},
   "outputs": [],
   "source": [
    "consulta_para_receber_dados_calculados_de_ausência = 'select * from abstence_calculated_data'\n",
    "ausência_de_dados = pd.read_sql(consulta_para_receber_dados_calculados_de_ausência, engine)\n",
    "\n",
    "\n",
    "consulta_para_faixa_etária = 'select percentage, label, id from age_range_calculated_data'\n",
    "intervalo_de_idade_dos_dados = pd.read_sql(consulta_para_faixa_etária, engine)\n",
    "\n",
    "consulta_para_obter_sexo = 'select * from sex_calculated_data'\n",
    "dados_sexo = pd.read_sql(consulta_para_obter_sexo, engine)\n",
    "\n",
    "consulta__tipo_de_escola = 'select * from school_type_calculated_data'\n",
    "dados_tipo_escola = pd.read_sql(consulta__tipo_de_escola, engine)\n",
    "\n",
    "consulta_educação_materna = 'select * from mother_education_calculated_data'\n",
    "dados_maternos_educação = pd.read_sql(consulta_educação_materna, engine)\n",
    "\n",
    "consulta_educação_paterna = 'select * from father_education_calculated_data'\n",
    "dados_paternos_educação = pd.read_sql(consulta_educação_paterna, engine)\n",
    "\n",
    "consulta_renda = 'select * from income_calculated_data'\n",
    "dadps_renda = pd.read_sql(consulta_renda, engine)\n",
    "\n",
    "engine.dispose()\n"
   ]
  },
  {
   "cell_type": "code",
   "execution_count": null,
   "id": "df1b8a84",
   "metadata": {},
   "outputs": [],
   "source": []
  },
  {
   "cell_type": "markdown",
   "id": "cf027598",
   "metadata": {},
   "source": [
    "### Perguntas:"
   ]
  },
  {
   "cell_type": "markdown",
   "id": "d22ab069",
   "metadata": {},
   "source": [
    "#### 1 - Qual o percentual de faltas dos cantidatos na disciplina de Matemática e Redação?"
   ]
  },
  {
   "cell_type": "code",
   "execution_count": null,
   "id": "61f224b6",
   "metadata": {},
   "outputs": [],
   "source": [
    "ausencias\n",
    "graphic = {\n",
    "    'Faltas em matematica': ausencias['rate_math'][0],\n",
    "    'Faltas em Linguagens': ausencias['rate_languages_​and_codes'][0],\n",
    "}\n",
    "\n",
    "plt.pie(graphic.values(), labels=graphic.keys(), autopct='%1.1f%%', startangle=90)\n",
    "plt.axis('equal')\n",
    "plt.title('Faltas por prova (em %)')\n",
    "plt.show()"
   ]
  },
  {
   "cell_type": "code",
   "execution_count": null,
   "id": "004a5dc3",
   "metadata": {},
   "outputs": [],
   "source": []
  },
  {
   "cell_type": "markdown",
   "id": "6990f3c8",
   "metadata": {},
   "source": [
    "#### 2 - Se formos olhar para a distribuição das idades dos alunos, como estaria a distribuição dos alunos por faixas etárias?"
   ]
  },
  {
   "cell_type": "code",
   "execution_count": null,
   "id": "d1e4acfe",
   "metadata": {},
   "outputs": [],
   "source": [
    "plt.figure(figsize=(50, 10))\n",
    "\n",
    "for data in intervalo_de_idade_dos_dados.values:\n",
    "    plt.bar(data[1], data[0], color='#FF9999')\n",
    "    plt.text(data[2] - 1, 5, data[0], ha='center')\n",
    "\n",
    "\n",
    "plt.xlabel('Faixas Etárias')\n",
    "plt.ylabel('Porcentagem')\n",
    "plt.title('Gráfico da porcentagem por faixa etária')\n",
    "plt.tight_layout()\n",
    "plt.show()\n",
    "plt.close()\n",
    "\n"
   ]
  },
  {
   "cell_type": "code",
   "execution_count": null,
   "id": "7a84f834",
   "metadata": {},
   "outputs": [],
   "source": []
  },
  {
   "cell_type": "markdown",
   "id": "0d061bda",
   "metadata": {},
   "source": [
    "### 3 - Quem tem as melhores notas em matemática e redação, candidatos do sexo masculino ou feminino?"
   ]
  },
  {
   "cell_type": "code",
   "execution_count": null,
   "id": "69b7b6d7",
   "metadata": {},
   "outputs": [],
   "source": [
    "# Para resposta dessa questão foi considerada a média das notas dos alunos presentes (excluindo faltas)\n",
    "\n",
    "\n",
    "data = dados_sexo.values[0]\n",
    "\n",
    "# data_age_range['females_mean_of_results_in_math']\n",
    "\n",
    "graphic = {\n",
    "    'Media homens em matemática': data[1],\n",
    "    'Media mulheres em matemática': data[2],\n",
    "    'Media homens em redação': data[3],\n",
    "    'Media mulheres em redação': data[4]\n",
    "}\n",
    "\n",
    "plt.figure(figsize=(10, 5))\n",
    "counter = 0\n",
    "\n",
    "for key, value in graphic.items():\n",
    "    plt.bar(key, value)\n",
    "    plt.text(counter, value / 2, value, ha='center')\n",
    "    counter += 1\n",
    "\n",
    "plt.ylabel('Porcentagem')\n",
    "plt.title('Gráfico da porcentagem por sexo')\n",
    "plt.tight_layout()\n",
    "plt.show()\n",
    "plt.close()\n"
   ]
  },
  {
   "cell_type": "code",
   "execution_count": null,
   "id": "b799b930",
   "metadata": {},
   "outputs": [],
   "source": []
  },
  {
   "cell_type": "markdown",
   "id": "a76f59c2",
   "metadata": {},
   "source": [
    "### 4 - Há alguma influência no tipo da escola (publica e privada) nas notas de matemática e redação?"
   ]
  },
  {
   "cell_type": "code",
   "execution_count": null,
   "id": "112ad80a",
   "metadata": {},
   "outputs": [],
   "source": [
    "# Para resposta dessa questão foi considerada a média das notas dos alunos presentes (excluindo faltas)\n",
    "data = tipo_de_escola_de_dados.values[0]\n",
    "\n",
    "graphic = {\n",
    "    'Escolas privadas matemática': data[1],\n",
    "    'Escolas publicas matemática': data[2],\n",
    "    'Escolas privadas redação': data[3],\n",
    "    'Escolas publicas redação': data[4]\n",
    "}\n",
    "\n",
    "plt.figure(figsize=(10, 5))\n",
    "counter = 0\n",
    "\n",
    "for key, value in graphic.items():\n",
    "    plt.bar(key, value)\n",
    "    plt.text(counter, value / 2, value, ha='center')\n",
    "    counter += 1\n",
    "\n",
    "plt.ylabel('Porcentagem')\n",
    "plt.title('Gráfico da porcentagem por tipo de escolas')\n",
    "plt.tight_layout()\n",
    "plt.show()\n",
    "plt.close()"
   ]
  },
  {
   "cell_type": "code",
   "execution_count": null,
   "id": "eec4ca75",
   "metadata": {},
   "outputs": [],
   "source": []
  },
  {
   "cell_type": "markdown",
   "id": "0d927b91",
   "metadata": {},
   "source": [
    "### 5 - Qual a influência da escolaridade do Pai nas notas de Matemática e Redação? "
   ]
  },
  {
   "cell_type": "code",
   "execution_count": null,
   "id": "3bf3b054",
   "metadata": {},
   "outputs": [],
   "source": [
    "plt.figure(figsize=(20, 10))\n",
    "\n",
    "for data in dados_paternos_educação.values:\n",
    "    plt.bar(data[4], data[2])\n",
    "    plt.text(data[0], data[2] / 2, data[2], ha='center')\n",
    "\n",
    "\n",
    "plt.xlabel('Escolaridade do pai')\n",
    "plt.ylabel('Nota da média em Matematica')\n",
    "plt.title('Gráfico da média por escolaridade do pai')\n",
    "plt.tight_layout()\n",
    "plt.show()\n",
    "plt.close()\n"
   ]
  },
  {
   "cell_type": "code",
   "execution_count": null,
   "id": "cda0c85f",
   "metadata": {},
   "outputs": [],
   "source": [
    "plt.figure(figsize=(20, 10))\n",
    "\n",
    "for data in dados_paternos_educação.values:\n",
    "    plt.bar(data[4], data[3])\n",
    "    plt.text(data[0], data[3] / 2, data[3], ha='center')\n",
    "\n",
    "\n",
    "plt.xlabel('Escolaridade do pai')\n",
    "plt.ylabel('Nota média em Redação')\n",
    "plt.title('Gráfico da média por escolaridade do pai')\n",
    "plt.tight_layout()\n",
    "plt.show()\n",
    "plt.close()\n"
   ]
  },
  {
   "cell_type": "markdown",
   "id": "b4dec7c6",
   "metadata": {},
   "source": [
    "### 6 - Qual a influência da escolaridade do Mãe nas notas de Matemática e Redação? "
   ]
  },
  {
   "cell_type": "code",
   "execution_count": null,
   "id": "0e9ab676",
   "metadata": {},
   "outputs": [],
   "source": [
    "plt.figure(figsize=(20, 10))\n",
    "\n",
    "for data in dados_maternos_educação.values:\n",
    "    plt.bar(data[4], data[2])\n",
    "    plt.text(data[0], data[2] / 2, data[2], ha='center')\n",
    "\n",
    "\n",
    "plt.xlabel('Escolaridade da mãe')\n",
    "plt.ylabel('Nota média em matemática')\n",
    "plt.title('Gráfico da média por escolaridade da mãe')\n",
    "plt.tight_layout()\n",
    "plt.show()\n",
    "plt.close()\n"
   ]
  },
  {
   "cell_type": "code",
   "execution_count": null,
   "id": "139145cf",
   "metadata": {},
   "outputs": [],
   "source": [
    "plt.figure(figsize=(20, 10))\n",
    "\n",
    "for data in dados_maternos_educação.values:\n",
    "    plt.bar(data[4], data[3])\n",
    "    plt.text(data[0], data[3] / 2, data[3], ha='center')\n",
    "\n",
    "\n",
    "plt.xlabel('Escolaridade da mãe')\n",
    "plt.ylabel('Nota média em redação')\n",
    "plt.title('Gráfico da média por escolaridade da mãe')\n",
    "plt.tight_layout()\n",
    "plt.show()\n",
    "plt.close()\n"
   ]
  },
  {
   "cell_type": "markdown",
   "id": "7154ec25",
   "metadata": {},
   "source": [
    "### 5 - Qual a influência da renda do Pai e da Mãe nas notas de Matemática e Redação? "
   ]
  },
  {
   "cell_type": "code",
   "execution_count": null,
   "id": "c6642e9c",
   "metadata": {},
   "outputs": [],
   "source": [
    "plt.figure(figsize=(50, 10))\n",
    "\n",
    "for data in dados_renda.values:\n",
    "    plt.bar(data[4], data[2])\n",
    "    plt.text(data[0], data[2] / 2, data[2], ha='center')\n",
    "\n",
    "\n",
    "plt.xlabel('Renda dos pais')\n",
    "plt.ylabel('Nota média em matematica')\n",
    "plt.title('Gráfico da média por renda')\n",
    "plt.tight_layout()\n",
    "plt.show()\n",
    "plt.close()"
   ]
  },
  {
   "cell_type": "code",
   "execution_count": null,
   "id": "db3816ab",
   "metadata": {},
   "outputs": [],
   "source": [
    "plt.figure(figsize=(50, 10))\n",
    "\n",
    "for data in dados_renda.values:\n",
    "    plt.bar(data[4], data[3])\n",
    "    plt.text(data[0], data[3] / 2, data[3], ha='center')\n",
    "\n",
    "\n",
    "plt.xlabel('Renda dos pais')\n",
    "plt.ylabel('Nota média em redação')\n",
    "plt.title('Gráfico da média por renda')\n",
    "plt.tight_layout()\n",
    "plt.show()\n",
    "plt.close()"
   ]
  }
 ],
 "metadata": {
  "kernelspec": {
   "display_name": "Python 3",
   "language": "python",
   "name": "python3"
  },
  "language_info": {
   "codemirror_mode": {
    "name": "ipython",
    "version": 3
   },
   "file_extension": ".py",
   "mimetype": "text/x-python",
   "name": "python",
   "nbconvert_exporter": "python",
   "pygments_lexer": "ipython3",
   "version": "3.13.5"
  }
 },
 "nbformat": 4,
 "nbformat_minor": 5
}
